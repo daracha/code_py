{
 "cells": [
  {
   "cell_type": "markdown",
   "metadata": {},
   "source": [
    "## 883 Projection Area of 3D Shapes    "
   ]
  },
  {
   "cell_type": "code",
   "execution_count": 6,
   "metadata": {},
   "outputs": [
    {
     "name": "stdout",
     "output_type": "stream",
     "text": [
      "8\n"
     ]
    }
   ],
   "source": [
    "grid = [[1,0],[0,2]]\n",
    "top = 0\n",
    "front = 0\n",
    "for i in grid:\n",
    "    top += len(i) - i.count(0)\n",
    "    front += max(i)\n",
    "\n",
    "ziped = list(zip(*grid))\n",
    "side = 0\n",
    "for i in range(len(ziped)):\n",
    "    side += max(ziped[i])\n",
    "print (top+front+side)"
   ]
  },
  {
   "cell_type": "markdown",
   "metadata": {},
   "source": [
    "## 908\tSmallest Range I  "
   ]
  },
  {
   "cell_type": "code",
   "execution_count": 41,
   "metadata": {},
   "outputs": [],
   "source": [
    "A,K = [1,3,6,18], 3"
   ]
  },
  {
   "cell_type": "code",
   "execution_count": 43,
   "metadata": {},
   "outputs": [
    {
     "data": {
      "text/plain": [
       "11"
      ]
     },
     "execution_count": 43,
     "metadata": {},
     "output_type": "execute_result"
    }
   ],
   "source": [
    "max(A) - min(A) - 2*K"
   ]
  },
  {
   "cell_type": "code",
   "execution_count": 32,
   "metadata": {
    "collapsed": true
   },
   "outputs": [],
   "source": [
    "class Solution(object):\n",
    "    def smallestRangeI(self, A, K):\n",
    "        return max(0, max(A) - min(A) - 2*K)"
   ]
  },
  {
   "cell_type": "code",
   "execution_count": 42,
   "metadata": {},
   "outputs": [
    {
     "data": {
      "text/plain": [
       "11"
      ]
     },
     "execution_count": 42,
     "metadata": {},
     "output_type": "execute_result"
    }
   ],
   "source": [
    "Solution.smallestRangeI(None,A,K)"
   ]
  },
  {
   "cell_type": "markdown",
   "metadata": {},
   "source": [
    "### 876\tMiddle of the Linked List    "
   ]
  },
  {
   "cell_type": "code",
   "execution_count": 20,
   "metadata": {
    "collapsed": true
   },
   "outputs": [],
   "source": [
    "class ListNode:\n",
    "    def __init__(self, x):\n",
    "        self.val = x\n",
    "        self.next = None"
   ]
  },
  {
   "cell_type": "code",
   "execution_count": 57,
   "metadata": {},
   "outputs": [],
   "source": [
    "class Solution:\n",
    "    def middleNode(self, head):\n",
    "        \"\"\"\n",
    "        :type head: ListNode\n",
    "        :rtype: ListNode\n",
    "        \"\"\"\n",
    "        #ListNode(head)\n",
    "        i = 1\n",
    "        while head.next != None:\n",
    "            i += 1\n",
    "\n",
    "        k = 1\n",
    "        while k <= int(i/2)+1:\n",
    "            k += 1\n",
    "            head.next\n",
    "        \n",
    "        return head.val"
   ]
  },
  {
   "cell_type": "code",
   "execution_count": 58,
   "metadata": {},
   "outputs": [
    {
     "ename": "AttributeError",
     "evalue": "'list' object has no attribute 'next'",
     "output_type": "error",
     "traceback": [
      "\u001b[0;31m---------------------------------------------------------------------------\u001b[0m",
      "\u001b[0;31mAttributeError\u001b[0m                            Traceback (most recent call last)",
      "\u001b[0;32m<ipython-input-58-212163be8bc1>\u001b[0m in \u001b[0;36m<module>\u001b[0;34m()\u001b[0m\n\u001b[0;32m----> 1\u001b[0;31m \u001b[0mSolution\u001b[0m\u001b[0;34m.\u001b[0m\u001b[0mmiddleNode\u001b[0m\u001b[0;34m(\u001b[0m\u001b[0;32mNone\u001b[0m\u001b[0;34m,\u001b[0m\u001b[0mhead\u001b[0m \u001b[0;34m=\u001b[0m \u001b[0;34m[\u001b[0m\u001b[0;36m1\u001b[0m\u001b[0;34m,\u001b[0m\u001b[0;36m2\u001b[0m\u001b[0;34m,\u001b[0m\u001b[0;36m3\u001b[0m\u001b[0;34m,\u001b[0m\u001b[0;36m4\u001b[0m\u001b[0;34m,\u001b[0m\u001b[0;36m5\u001b[0m\u001b[0;34m]\u001b[0m\u001b[0;34m)\u001b[0m\u001b[0;34m\u001b[0m\u001b[0m\n\u001b[0m",
      "\u001b[0;32m<ipython-input-57-4f6791d590d3>\u001b[0m in \u001b[0;36mmiddleNode\u001b[0;34m(self, head)\u001b[0m\n\u001b[1;32m      7\u001b[0m         \u001b[0;31m#ListNode(head)\u001b[0m\u001b[0;34m\u001b[0m\u001b[0;34m\u001b[0m\u001b[0m\n\u001b[1;32m      8\u001b[0m         \u001b[0mi\u001b[0m \u001b[0;34m=\u001b[0m \u001b[0;36m1\u001b[0m\u001b[0;34m\u001b[0m\u001b[0m\n\u001b[0;32m----> 9\u001b[0;31m         \u001b[0;32mwhile\u001b[0m \u001b[0mhead\u001b[0m\u001b[0;34m.\u001b[0m\u001b[0mnext\u001b[0m\u001b[0;34m:\u001b[0m\u001b[0;34m\u001b[0m\u001b[0m\n\u001b[0m\u001b[1;32m     10\u001b[0m             \u001b[0mi\u001b[0m \u001b[0;34m+=\u001b[0m \u001b[0;36m1\u001b[0m\u001b[0;34m\u001b[0m\u001b[0m\n\u001b[1;32m     11\u001b[0m \u001b[0;34m\u001b[0m\u001b[0m\n",
      "\u001b[0;31mAttributeError\u001b[0m: 'list' object has no attribute 'next'"
     ]
    }
   ],
   "source": [
    "Solution.middleNode(None,head = [1,2,3,4,5])"
   ]
  },
  {
   "cell_type": "code",
   "execution_count": 62,
   "metadata": {},
   "outputs": [
    {
     "data": {
      "text/plain": [
       "True"
      ]
     },
     "execution_count": 62,
     "metadata": {},
     "output_type": "execute_result"
    }
   ],
   "source": [
    "ListNode([2]).next == None"
   ]
  },
  {
   "cell_type": "markdown",
   "metadata": {},
   "source": [
    "700\t\n",
    "Search in a Binary Search Tree    "
   ]
  },
  {
   "cell_type": "code",
   "execution_count": 63,
   "metadata": {
    "collapsed": true
   },
   "outputs": [],
   "source": [
    "#Definition for a binary tree node.\n",
    "class TreeNode:\n",
    "    def __init__(self, x):\n",
    "        self.val = x\n",
    "        self.left = None\n",
    "        self.right = None"
   ]
  },
  {
   "cell_type": "code",
   "execution_count": 64,
   "metadata": {
    "collapsed": true
   },
   "outputs": [],
   "source": [
    "class Solution:\n",
    "    def searchBST(self, root, val):\n",
    "        \"\"\"\n",
    "        :type root: TreeNode\n",
    "        :type val: int\n",
    "        :rtype: TreeNode\n",
    "        \"\"\"\n",
    "        #tree = [root]\n",
    "        if root is None or root.val == val:\n",
    "            return root\n",
    "        \n",
    "        if root.val < val:\n",
    "            return Solution.searchBST(None,root.right, val)\n",
    "        else:\n",
    "            return Solution.searchBST(None,root.left, val)"
   ]
  },
  {
   "cell_type": "markdown",
   "metadata": {},
   "source": [
    "884\t\n",
    "Uncommon Words from Two Sentences   "
   ]
  },
  {
   "cell_type": "code",
   "execution_count": 89,
   "metadata": {},
   "outputs": [],
   "source": [
    " A,B = \"op vu kux dn jsenj hbdez hbdez nbenh z op dxmqd op\",\"kux wnx wnx wbi jsenj nlgfn vu f vu fvxas dn op tb\""
   ]
  },
  {
   "cell_type": "code",
   "execution_count": 98,
   "metadata": {},
   "outputs": [
    {
     "name": "stdout",
     "output_type": "stream",
     "text": [
      "nbenh\n",
      "nbenh\n",
      "z\n",
      "z\n",
      "dxmqd\n",
      "dxmqd\n",
      "hbdez\n",
      "['nbenh', 'z', 'dxmqd', 'tb', 'nlgfn', 'f', 'wbi', 'fvxas']\n"
     ]
    }
   ],
   "source": [
    "res = []\n",
    "p = list(set(A.split())-set(B.split()))\n",
    "for i in p:\n",
    "    print (i)\n",
    "    if A.split().count(i) == 1:\n",
    "        print (i)\n",
    "        res.append(i)\n",
    "q = list(set(B.split())-set(A.split()))\n",
    "for i in q:\n",
    "    if B.split().count(i) == 1:\n",
    "        res.append(i)\n",
    "print (res)"
   ]
  },
  {
   "cell_type": "markdown",
   "metadata": {},
   "source": [
    "893\t\n",
    "Groups of Special-Equivalent Strings    "
   ]
  },
  {
   "cell_type": "code",
   "execution_count": 107,
   "metadata": {
    "collapsed": true
   },
   "outputs": [],
   "source": [
    "A = [\"abc\",\"acb\",\"bac\",\"bca\",\"cab\",\"cba\",'asdfg','afgsd']"
   ]
  },
  {
   "cell_type": "code",
   "execution_count": 150,
   "metadata": {},
   "outputs": [
    {
     "data": {
      "text/plain": [
       "[[{'a', 'c'}, {'b'}],\n",
       " [{'a', 'b'}, {'c'}],\n",
       " [{'b', 'c'}, {'a'}],\n",
       " [{'a', 'b'}, {'c'}],\n",
       " [{'b', 'c'}, {'a'}],\n",
       " [{'a', 'c'}, {'b'}],\n",
       " [{'a', 'd', 'g'}, {'f', 's'}],\n",
       " [{'a', 'd', 'g'}, {'f', 's'}]]"
      ]
     },
     "execution_count": 150,
     "metadata": {},
     "output_type": "execute_result"
    }
   ],
   "source": [
    "res = []\n",
    "splits = {}\n",
    "for val,string in enumerate(A):\n",
    "    splits[str(val)] = [set(list(string)[::2]),set(list(string)[1::2])]\n",
    "\n",
    "a = list(splits.values())\n",
    "a"
   ]
  },
  {
   "cell_type": "code",
   "execution_count": 166,
   "metadata": {},
   "outputs": [
    {
     "data": {
      "text/plain": [
       "[[{'a', 'c'}, {'b'}],\n",
       " [{'a', 'b'}, {'c'}],\n",
       " [{'b', 'c'}, {'a'}],\n",
       " [{'a', 'b'}, {'c'}],\n",
       " [{'b', 'c'}, {'a'}],\n",
       " [{'a', 'c'}, {'b'}],\n",
       " [{'a', 'd', 'g'}, {'f', 's'}],\n",
       " [{'a', 'd', 'g'}, {'f', 's'}]]"
      ]
     },
     "execution_count": 166,
     "metadata": {},
     "output_type": "execute_result"
    }
   ],
   "source": [
    "res = []\n",
    "splits =[]\n",
    "for string in A:\n",
    "    res.append([set(list(string)[::2]),set(list(string)[1::2])])\n",
    "\n",
    "for i in res:\n",
    "    "
   ]
  },
  {
   "cell_type": "code",
   "execution_count": 127,
   "metadata": {},
   "outputs": [
    {
     "data": {
      "text/plain": [
       "True"
      ]
     },
     "execution_count": 127,
     "metadata": {},
     "output_type": "execute_result"
    }
   ],
   "source": [
    "splits['6'] == splits['7']"
   ]
  },
  {
   "cell_type": "code",
   "execution_count": 123,
   "metadata": {},
   "outputs": [
    {
     "data": {
      "text/plain": [
       "{'a', 'd', 'g'}"
      ]
     },
     "execution_count": 123,
     "metadata": {},
     "output_type": "execute_result"
    }
   ],
   "source": [
    "set(splits['6'][0])"
   ]
  },
  {
   "cell_type": "code",
   "execution_count": null,
   "metadata": {
    "collapsed": true
   },
   "outputs": [],
   "source": []
  }
 ],
 "metadata": {
  "kernelspec": {
   "display_name": "Python 3",
   "language": "python",
   "name": "python3"
  },
  "language_info": {
   "codemirror_mode": {
    "name": "ipython",
    "version": 3
   },
   "file_extension": ".py",
   "mimetype": "text/x-python",
   "name": "python",
   "nbconvert_exporter": "python",
   "pygments_lexer": "ipython3",
   "version": "3.6.3"
  }
 },
 "nbformat": 4,
 "nbformat_minor": 2
}
