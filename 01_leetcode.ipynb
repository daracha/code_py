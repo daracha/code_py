{
 "cells": [
  {
   "cell_type": "markdown",
   "metadata": {},
   "source": [
    "##728. Self Dividing Numbers"
   ]
  },
  {
   "cell_type": "code",
   "execution_count": 5,
   "metadata": {},
   "outputs": [
    {
     "data": {
      "text/plain": [
       "[1, 2, 3, 4, 5, 6, 7, 8, 9, 11, 12, 15, 22]"
      ]
     },
     "execution_count": 5,
     "metadata": {},
     "output_type": "execute_result"
    }
   ],
   "source": [
    "def selfDividingNumbers(self, left, right):\n",
    "    \"\"\"\n",
    "    :type left: int\n",
    "    :type right: int\n",
    "    :rtype: List[int]\n",
    "    \"\"\"\n",
    "    a=[] #empty list for appending selfdividing numbers\n",
    "    for i in range(left,right+1):\n",
    "        digit_list=[int(d) for d in str(i)]\n",
    "        if 0 not in digit_list:\n",
    "            p=0\n",
    "            for j in digit_list:\n",
    "                if i%j==0:\n",
    "                    p+=1\n",
    "                    if p==len(digit_list):\n",
    "                        a.append(i)\n",
    "                    pass\n",
    "                else:\n",
    "                    break\n",
    "    return(a)\n",
    "                    \n",
    "selfDividingNumbers('self',1,22)"
   ]
  },
  {
   "cell_type": "markdown",
   "metadata": {},
   "source": [
    "##617. Merge Two Binary Trees"
   ]
  },
  {
   "cell_type": "code",
   "execution_count": 13,
   "metadata": {
    "collapsed": true
   },
   "outputs": [],
   "source": [
    "class TreeNode(object):\n",
    "     def __init__(self, x):\n",
    "            self.val = x\n",
    "            self.left = None\n",
    "            self.right = None"
   ]
  },
  {
   "cell_type": "code",
   "execution_count": 14,
   "metadata": {
    "collapsed": true
   },
   "outputs": [],
   "source": [
    "def mergeTrees(t1, t2):\n",
    "    \"\"\"\n",
    "    :type t1: TreeNode\n",
    "    :type t2: TreeNode\n",
    "    :rtype: TreeNode\n",
    "    \"\"\"\n",
    "    print t1.val\n",
    "    if not t1 and not t2:\n",
    "        return None\n",
    "    t_final = TreeNode((t1.val if t1 else 0)+(t2.val if t2 else 0))\n",
    "    t_final.left=self.mergeTrees(t1 and t1.left,t2 and t2.left)\n",
    "    print t_final.left.val\n",
    "    t_final.right=self.mergeTrees(t1 and t1.right,t2 and t2.right)\n",
    "    return t_final\n",
    "        "
   ]
  },
  {
   "cell_type": "markdown",
   "metadata": {},
   "source": [
    "##561. Array Partition I"
   ]
  },
  {
   "cell_type": "code",
   "execution_count": 1,
   "metadata": {
    "collapsed": true
   },
   "outputs": [],
   "source": [
    "def arrayPairSum(self, nums):\n",
    "    \"\"\"\n",
    "    :type nums: List[int]\n",
    "    :rtype: int\n",
    "    \"\"\"\n",
    "    nums.sort()\n",
    "    a=0\n",
    "    for i in range(n):\n",
    "        a+=nums[2*i]\n",
    "    return a"
   ]
  },
  {
   "cell_type": "markdown",
   "metadata": {},
   "source": [
    "##476. Number Complement"
   ]
  },
  {
   "cell_type": "code",
   "execution_count": null,
   "metadata": {
    "collapsed": true
   },
   "outputs": [],
   "source": [
    "class Solution(object):\n",
    "    def findComplement(self, num):\n",
    "        \"\"\"\n",
    "        :type num: int\n",
    "        :rtype: int\n",
    "        \"\"\"\n",
    "        num=\"{0:b}\".format(num)\n",
    "        ones='1'*len(num)\n",
    "        comp_num=int(str(int(ones)-int(num)),2)\n",
    "        return comp_num"
   ]
  },
  {
   "cell_type": "markdown",
   "metadata": {},
   "source": [
    "##557. Reverse Words in a String III"
   ]
  },
  {
   "cell_type": "code",
   "execution_count": 5,
   "metadata": {
    "collapsed": true
   },
   "outputs": [],
   "source": [
    "#class Solution(object):\n",
    "def reverseWords(s):\n",
    "    \"\"\"\n",
    "    :type s: str\n",
    "    :rtype: str\n",
    "    \"\"\"\n",
    "    b=s.split(\" \")\n",
    "    c=[]\n",
    "    for i in b:\n",
    "        i=i[::-1]\n",
    "        c.append(i)\n",
    "    final_str=' '.join(c)\n",
    "    return final_str"
   ]
  },
  {
   "cell_type": "code",
   "execution_count": 6,
   "metadata": {},
   "outputs": [
    {
     "data": {
      "text/plain": [
       "\"s'teL ekat edoCteeL tsetnoc\""
      ]
     },
     "execution_count": 6,
     "metadata": {},
     "output_type": "execute_result"
    }
   ],
   "source": [
    "s=\"Let's take LeetCode contest\"\n",
    "reverseWords(s)"
   ]
  },
  {
   "cell_type": "markdown",
   "metadata": {},
   "source": [
    "##500. Keyboard Row"
   ]
  },
  {
   "cell_type": "code",
   "execution_count": 23,
   "metadata": {
    "collapsed": true
   },
   "outputs": [],
   "source": [
    "def findWords(words):\n",
    "        \"\"\"\n",
    "        :type words: List[str]\n",
    "        :rtype: List[str]\n",
    "        \"\"\"\n",
    "        a=list('qwertyuiop')\n",
    "        b=list('asdfghjkl')\n",
    "        c=list('zxcvbnm')\n",
    "        fin_words=[]\n",
    "        for word in words:\n",
    "            a_ct,b_ct,c_ct=0,0,0\n",
    "            for letter in word:\n",
    "                letter = letter.lower()\n",
    "                if letter in a:\n",
    "                    a_ct+=1\n",
    "                if letter in b:\n",
    "                    b_ct+=1\n",
    "                if letter in c:\n",
    "                    c_ct+=1\n",
    "            #print word,a_ct,b_ct,c_ct\n",
    "            if a_ct== len(word) or b_ct==len(word) or c_ct==len(word):\n",
    "                fin_words.append(word)\n",
    "        return fin_words"
   ]
  },
  {
   "cell_type": "code",
   "execution_count": 24,
   "metadata": {},
   "outputs": [
    {
     "data": {
      "text/plain": [
       "['Alaska', 'Dad']"
      ]
     },
     "execution_count": 24,
     "metadata": {},
     "output_type": "execute_result"
    }
   ],
   "source": [
    "words=[\"Hello\", \"Alaska\", \"Dad\", \"Peace\"]\n",
    "findWords(words)"
   ]
  },
  {
   "cell_type": "code",
   "execution_count": 31,
   "metadata": {
    "collapsed": true
   },
   "outputs": [],
   "source": [
    "def findWords(words):        \n",
    "    rs = map(set, ['qwertyuiop','asdfghjkl','zxcvbnm'])\n",
    "    ans = []\n",
    "    for word in words:\n",
    "        wset = set(word.lower())\n",
    "        print wset\n",
    "        if any(wset <= rset for rset in rs):\n",
    "            ans.append(word)\n",
    "    return ans"
   ]
  },
  {
   "cell_type": "code",
   "execution_count": 32,
   "metadata": {},
   "outputs": [
    {
     "name": "stdout",
     "output_type": "stream",
     "text": [
      "set(['h', 'e', 'l', 'o'])\n",
      "set(['a', 'k', 's', 'l'])\n",
      "set(['a', 'd'])\n",
      "set(['a', 'p', 'c', 'e'])\n"
     ]
    },
    {
     "data": {
      "text/plain": [
       "['Alaska', 'Dad']"
      ]
     },
     "execution_count": 32,
     "metadata": {},
     "output_type": "execute_result"
    }
   ],
   "source": [
    "words=[\"Hello\", \"Alaska\", \"Dad\", \"Peace\"]\n",
    "findWords(words)"
   ]
  },
  {
   "cell_type": "markdown",
   "metadata": {},
   "source": [
    "##682. Baseball Game"
   ]
  },
  {
   "cell_type": "code",
   "execution_count": 63,
   "metadata": {
    "collapsed": true
   },
   "outputs": [],
   "source": [
    "def calPoints(ops):\n",
    "    \"\"\"\n",
    "    :type ops: List[str]\n",
    "    :rtype: int\n",
    "    \"\"\"\n",
    "    score={}\n",
    "    i=0\n",
    "    def isint(x):\n",
    "        try:\n",
    "            int(ops[i])\n",
    "            return True\n",
    "        except:\n",
    "            return False\n",
    "    for i in range(len(ops)):\n",
    "        #print i,ops[i].isdigit(),unicode(ops[i],'utf-8').isnumeric()\n",
    "        print score\n",
    "        if isint(ops[i]):\n",
    "            score[i]=int(ops[i])\n",
    "        if ops[i]=='C':\n",
    "            if i>0:\n",
    "                last_element=sorted(score.keys())[-1]\n",
    "                del score[last_element]\n",
    "        if ops[i]=='D':\n",
    "            if i>0:\n",
    "                last_element=sorted(score.keys())[-1]\n",
    "                score[i]=2*score[last_element]\n",
    "        if ops[i]=='+':\n",
    "            if i>1:\n",
    "                last_element=sorted(score.keys())[-1]\n",
    "                last_one_element=sorted(score.keys())[-2]\n",
    "                score[i]=score[last_element]+score[last_one_element]\n",
    "    return sum(score.values())"
   ]
  },
  {
   "cell_type": "code",
   "execution_count": 64,
   "metadata": {},
   "outputs": [
    {
     "name": "stdout",
     "output_type": "stream",
     "text": [
      "{}\n",
      "{0: -21}\n",
      "{0: -21, 1: -66}\n",
      "{0: -21, 1: -66, 2: 39}\n",
      "{0: -21, 1: -66, 2: 39, 3: -27}\n"
     ]
    },
    {
     "data": {
      "text/plain": [
       "-63"
      ]
     },
     "execution_count": 64,
     "metadata": {},
     "output_type": "execute_result"
    }
   ],
   "source": [
    "ops=[\"-21\",\"-66\",\"39\",\"+\",\"+\"]\n",
    "calPoints(ops)"
   ]
  },
  {
   "cell_type": "markdown",
   "metadata": {},
   "source": [
    "# 575. Distribute Candies"
   ]
  },
  {
   "cell_type": "code",
   "execution_count": 65,
   "metadata": {
    "collapsed": true
   },
   "outputs": [],
   "source": [
    "def distributeCandies(candies):\n",
    "    \"\"\"\n",
    "    :type candies: List[int]\n",
    "    :rtype: int\n",
    "    \"\"\"\n",
    "    if len(set(candies))>=len(candies)/2:\n",
    "        return len(candies)/2\n",
    "    else:\n",
    "        return len(set(candies))"
   ]
  },
  {
   "cell_type": "markdown",
   "metadata": {},
   "source": [
    "# 412. Fizz Buzz"
   ]
  },
  {
   "cell_type": "code",
   "execution_count": 87,
   "metadata": {
    "collapsed": true
   },
   "outputs": [],
   "source": [
    "def fizzBuzz(n):\n",
    "    \"\"\"\n",
    "    :type n: int\n",
    "    :rtype: List[str]\n",
    "    \"\"\"\n",
    "    a=range(n)\n",
    "    for i in range(1,n+1):\n",
    "        #print i\n",
    "        if i%3==0 and i%5==0:\n",
    "            a[i-1]='FizzBuzz'\n",
    "        elif i%3==0 and i%5!=0:\n",
    "            a[i-1]='Fizz'\n",
    "        elif i%3!=0 and i%5==0:\n",
    "            a[i-1]='Buzz'\n",
    "        else:\n",
    "            a[i-1]=str(i)\n",
    "    return a"
   ]
  },
  {
   "cell_type": "code",
   "execution_count": 88,
   "metadata": {},
   "outputs": [
    {
     "data": {
      "text/plain": [
       "['1',\n",
       " '2',\n",
       " 'Fizz',\n",
       " '4',\n",
       " 'Buzz',\n",
       " 'Fizz',\n",
       " '7',\n",
       " '8',\n",
       " 'Fizz',\n",
       " 'Buzz',\n",
       " '11',\n",
       " 'Fizz',\n",
       " '13',\n",
       " '14',\n",
       " 'FizzBuzz']"
      ]
     },
     "execution_count": 88,
     "metadata": {},
     "output_type": "execute_result"
    }
   ],
   "source": [
    "fizzBuzz(15)"
   ]
  },
  {
   "cell_type": "markdown",
   "metadata": {},
   "source": [
    "# 566. Reshape the Matrix"
   ]
  },
  {
   "cell_type": "code",
   "execution_count": 14,
   "metadata": {},
   "outputs": [],
   "source": [
    "def matrixReshape(nums, r, c):\n",
    "    \"\"\"\n",
    "    :type nums: List[List[int]]\n",
    "    :type r: int\n",
    "    :type c: int\n",
    "    :rtype: List[List[int]]\n",
    "    \"\"\"\n",
    "    nums_master=[]\n",
    "    matrix=[]\n",
    "    for num in nums:\n",
    "        nums_master.extend(num)\n",
    "    if len(nums_master)!=r*c:\n",
    "        return nums\n",
    "    else:\n",
    "        k=0\n",
    "        for row in range(r):\n",
    "            matrix.append([])\n",
    "            j=0\n",
    "            while j<c:\n",
    "                matrix[row].append(nums_master[k])\n",
    "                k+=1\n",
    "                j+=1\n",
    "        return matrix"
   ]
  },
  {
   "cell_type": "code",
   "execution_count": 15,
   "metadata": {},
   "outputs": [
    {
     "data": {
      "text/plain": [
       "[[1, 2], [3, 4], [5, 6]]"
      ]
     },
     "execution_count": 15,
     "metadata": {},
     "output_type": "execute_result"
    }
   ],
   "source": [
    "nums = [[1,2], [3,4],[5,6]]\n",
    "r = 1\n",
    "c = 4\n",
    "matrixReshape(nums, r, c)"
   ]
  },
  {
   "cell_type": "markdown",
   "metadata": {},
   "source": [
    "# 463. Island Perimeter"
   ]
  },
  {
   "cell_type": "code",
   "execution_count": null,
   "metadata": {
    "collapsed": true
   },
   "outputs": [],
   "source": [
    "def islandPerimeter(grid):\n",
    "    \"\"\"\n",
    "    :type grid: List[List[int]]\n",
    "    :rtype: int\n",
    "    \"\"\"\n",
    "    row=len(grid)\n",
    "    col=len(grid[0])\n",
    "    if "
   ]
  },
  {
   "cell_type": "markdown",
   "metadata": {},
   "source": [
    "# 496. Next Greater Element I"
   ]
  },
  {
   "cell_type": "code",
   "execution_count": null,
   "metadata": {
    "collapsed": true
   },
   "outputs": [],
   "source": []
  }
 ],
 "metadata": {
  "kernelspec": {
   "display_name": "Python 2",
   "language": "python",
   "name": "python2"
  },
  "language_info": {
   "codemirror_mode": {
    "name": "ipython",
    "version": 2
   },
   "file_extension": ".py",
   "mimetype": "text/x-python",
   "name": "python",
   "nbconvert_exporter": "python",
   "pygments_lexer": "ipython2",
   "version": "2.7.13"
  }
 },
 "nbformat": 4,
 "nbformat_minor": 2
}
